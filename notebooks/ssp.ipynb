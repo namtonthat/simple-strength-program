{
 "cells": [
  {
   "cell_type": "code",
   "execution_count": 78,
   "metadata": {},
   "outputs": [],
   "source": [
    "import numpy as np\n",
    "import yaml\n",
    "import pandas as pd    \n",
    "import math\n",
    "\n",
    "from dataclasses import dataclass\n",
    "from typing import List, Optional, Tuple\n",
    "import itertools \n",
    "from docopt import docopt\n",
    "from prettytable import PrettyTable \n",
    "from rich.prompt import Prompt\n",
    "from datetime import datetime, timedelta"
   ]
  },
  {
   "cell_type": "code",
   "execution_count": 79,
   "metadata": {},
   "outputs": [],
   "source": [
    "import logging\n",
    "logging.basicConfig()\n",
    "LOGGER = logging.getLogger(__name__)\n",
    "LOGGER.setLevel(logging.INFO)\n"
   ]
  }
 ],
 "metadata": {
  "kernelspec": {
   "display_name": "Python 3.11.0 ('simple-strength-program-amUVlwZu-py3.11')",
   "language": "python",
   "name": "python3"
  },
  "language_info": {
   "codemirror_mode": {
    "name": "ipython",
    "version": 3
   },
   "file_extension": ".py",
   "mimetype": "text/x-python",
   "name": "python",
   "nbconvert_exporter": "python",
   "pygments_lexer": "ipython3",
   "version": "3.11.0"
  },
  "orig_nbformat": 4,
  "vscode": {
   "interpreter": {
    "hash": "4d8aca8f5916e92fafb891ec6c9b9fc38a52178804d53334e3534ee038e0a867"
   }
  }
 },
 "nbformat": 4,
 "nbformat_minor": 2
}
