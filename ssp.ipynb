{
 "cells": [
  {
   "cell_type": "code",
   "execution_count": 256,
   "metadata": {},
   "outputs": [],
   "source": [
    "import numpy as np\n",
    "import yaml\n",
    "import pandas as pd    \n",
    "\n",
    "from dataclasses import dataclass\n",
    "from typing import List, Optional\n",
    "import itertools\n",
    "from docopt import docopt\n",
    "from prettytable import PrettyTable \n",
    "from rich.prompt import Prompt"
   ]
  },
  {
   "cell_type": "code",
   "execution_count": 4,
   "metadata": {},
   "outputs": [],
   "source": [
    "import logging\n",
    "logging.basicConfig()\n",
    "LOGGER = logging.getLogger(__name__)\n",
    "LOGGER.setLevel(logging.INFO)\n"
   ]
  },
  {
   "cell_type": "code",
   "execution_count": 12,
   "metadata": {},
   "outputs": [],
   "source": [
    "def calculate_1rm(reps, weight, rpe):\n",
    "    \"\"\"\n",
    "    Use Brzycki's formula to calculate the theortical 1RM\n",
    "    \"\"\"\n",
    "    one_rm_pct = DF_RPE[f'{reps}'].to_dict().get(rpe)\n",
    "    one_rm = int(np.round(np.floor(weight / one_rm_pct), 0))\n",
    "    return one_rm\n",
    "\n",
    "def round_weights(weight):\n",
    "    \"\"\"\n",
    "    Round the weights to the nearest 2.5 kg (or kg if microplates available)\n",
    "    \"\"\"\n",
    "    if MICROPLATES:\n",
    "        pl_weight = int(np.floor(weight))\n",
    "    else: \n",
    "        pl_weight = round(np.ceil(weight / 2.5)) * 2.5\n",
    "\n",
    "    return pl_weight\n",
    "            "
   ]
  },
  {
   "cell_type": "code",
   "execution_count": 253,
   "metadata": {},
   "outputs": [],
   "source": [
    "\n",
    "@dataclass\n",
    "class OneRepMax:\n",
    "    \"\"\"A dataclass to store the one rep max for a lift\"\"\"\n",
    "\n",
    "    lift: str\n",
    "    weight: float\n",
    "    \n",
    "    def __post_init__(self):\n",
    "        \"\"\"Clean the names / related compound names\"\"\"\n",
    "        exercise_name = self.lift.replace(\"-\", \" \").title()\n",
    "        self.lift = exercise_name\n",
    "        \n",
    "    @property\n",
    "    def output_table(self) -> str:\n",
    "        \"\"\"Return a table of the one rep max\"\"\"\n",
    "        output = [self.lift, self.weight]\n",
    "        return output\n",
    "\n",
    "\n",
    "@dataclass\n",
    "class LiftWeight:\n",
    "    \"\"\"A dataclass to store the weight for a lift\"\"\"\n",
    "    weight: float\n",
    "    reps: int\n",
    "    # pct_one_rm: float\n",
    "\n",
    "    \n",
    "@dataclass\n",
    "class Exercise: \n",
    "    \"\"\"A generic class for an exercise\"\"\"\n",
    "    backoff_sets: List[LiftWeight]\n",
    "    name: str\n",
    "    predicted_one_rm: float\n",
    "    related_compound: str = None\n",
    "    top_sets: Optional[List[LiftWeight]] = None\n",
    "    \n",
    "    def __post_init__(self): \n",
    "        \"\"\"Clean the names / related compound names\"\"\"\n",
    "        exercise_name = self.name.replace('-', ' ').title()\n",
    "        self.name = exercise_name\n",
    "        \n",
    "        if self.related_compound: \n",
    "            related_compound_name = self.related_compound.replace('-', ' ').title()\n",
    "            self.related_compound= related_compound_name\n",
    "    \n",
    "    @property \n",
    "    def weekly_sets(self) -> List[LiftWeight]:\n",
    "        \"\"\"\n",
    "        Return the weekly training set for the exercise\n",
    "        \"\"\"\n",
    "        if self.top_sets:\n",
    "            weekly_sets = list(itertools.zip_longest(self.top_sets, self.backoff_sets))\n",
    "            return weekly_sets\n",
    "        else: \n",
    "            return self.backoff_sets\n",
    "    \n",
    "    @property\n",
    "    def output_name(self) -> str:\n",
    "        \"\"\"\n",
    "        Return the name of the exercise for the output\n",
    "        \"\"\"\n",
    "        if self.related_compound:\n",
    "            return f'{self.name} ({self.related_compound})'\n",
    "        else: \n",
    "            return self.name\n",
    "    \n",
    "    # @property\n",
    "    # def output_print(self) -> str:\n",
    "    #     \"\"\"\n",
    "    #     Return the string to output to the user\n",
    "    #     \"\"\"\n",
    "        \n",
    "    #     outputs = [\n",
    "    #         f\"\\n{self.output_name}\\n\"\n",
    "    #         f\"Training Max: {self.predicted_one_rm} kg\"]\n",
    "    #     if self.top_sets:\n",
    "    #         for week, (top, backoff) in enumerate(self.weekly_sets, 1):\n",
    "    #             week_date = WEEK_DATES.get(week)\n",
    "    #             output = f\"Week {week} ({week_date})\\n\"+\\\n",
    "    #             f\"{top.weight} kg x {top.reps}\\n\"+\\\n",
    "    #             f\"{backoff.weight} kg x {backoff.reps}\"\n",
    "    #             outputs.append(output)\n",
    "    #     else: \n",
    "    #         for week, weight in enumerate(self.weekly_sets, 1):\n",
    "    #             week_date = WEEK_DATES.get(week)\n",
    "    #             output = f\"Week {week} ({week_date})\\n\"+\\\n",
    "    #             f\"{weight.weight} kg x {weight.reps}\"\n",
    "    #             outputs.append(output)\n",
    "    #     return '\\n\\n'.join(outputs)\n",
    "    \n",
    "    @property \n",
    "    def output_table(self) -> List: \n",
    "        \"Creates table output for prettytable package\"\n",
    "        outputs = [\n",
    "            f\"{self.output_name}\"\n",
    "        ]\n",
    "        if self.top_sets:\n",
    "            for _, (top, backoff) in enumerate(self.weekly_sets, 1):\n",
    "                output = f\"{top.weight} kg x {top.reps}\\n\"+\\\n",
    "                f\"{backoff.weight} kg x {backoff.reps}\"\n",
    "                outputs.append(output)\n",
    "        else: \n",
    "            for _, weight in enumerate(self.weekly_sets, 1):\n",
    "                output = f\"{weight.weight} kg x {weight.reps}\"\n",
    "                outputs.append(output)\n",
    "                \n",
    "        return outputs\n",
    "    "
   ]
  },
  {
   "cell_type": "code",
   "execution_count": 203,
   "metadata": {},
   "outputs": [],
   "source": [
    "def has_weekly_difference(training_range): \n",
    "    weekly_difference = np.diff(training_range).tolist()\n",
    "    print(weekly_difference)\n",
    "    for weekly_diff in weekly_difference:\n",
    "        print(weekly_diff)\n",
    "        if weekly_diff < 2.5: \n",
    "            return True\n",
    "    return False"
   ]
  },
  {
   "cell_type": "code",
   "execution_count": 230,
   "metadata": {},
   "outputs": [],
   "source": [
    "def calculate_training_range(one_rm, reps, rpe_schema) -> List[float]:\n",
    "    \"\"\"\n",
    "    Calculate the training day progression for a given 1RM\n",
    "    \"\"\"\n",
    "    df_ref = DF_RPE[f\"{reps}\"].to_dict()\n",
    "    week_weights = []\n",
    "    pct_one_rms = []\n",
    "    \n",
    "    for rpe in rpe_schema:\n",
    "        pct_one_rm = df_ref.get(rpe)\n",
    "        week_weight = pct_one_rm * one_rm\n",
    "        pct_one_rms.append(pct_one_rm)\n",
    "        week_weights.append(week_weight)\n",
    "\n",
    "    training_range = [round_weights(i) for i in week_weights]\n",
    "        \n",
    "    return training_range"
   ]
  },
  {
   "cell_type": "code",
   "execution_count": 272,
   "metadata": {},
   "outputs": [
    {
     "name": "stdout",
     "output_type": "stream",
     "text": [
      "74.80000000000001\n",
      "86.46000000000001\n"
     ]
    }
   ],
   "source": [
    "reps = 8\n",
    "df_ref = DF_RPE[f\"{reps}\"].to_dict()\n",
    "\n",
    "lowest_rpe = 6\n",
    "highest_rpe = 10\n",
    "\n",
    "one_rm = 110\n",
    "\n",
    "print(one_rm * df_ref.get(lowest_rpe))\n",
    "print(one_rm * df_ref.get(highest_rpe))"
   ]
  },
  {
   "cell_type": "code",
   "execution_count": 274,
   "metadata": {},
   "outputs": [
    {
     "data": {
      "text/plain": [
       "array([75.  , 76.25, 77.5 , 78.75, 80.  ])"
      ]
     },
     "execution_count": 274,
     "metadata": {},
     "output_type": "execute_result"
    }
   ],
   "source": [
    "np.linspace(70, 80, 5)"
   ]
  },
  {
   "cell_type": "code",
   "execution_count": null,
   "metadata": {},
   "outputs": [],
   "source": []
  },
  {
   "cell_type": "code",
   "execution_count": 235,
   "metadata": {},
   "outputs": [],
   "source": [
    "def create_training_range(one_rm, reps, rpe_schema) -> List[LiftWeight]: \n",
    "    \"\"\"Create a list of LiftWeight objects for the training range\"\"\"\n",
    "    training_range = calculate_training_range(one_rm, reps, rpe_schema)\n",
    "    # iterate through training range to make sure there is enough spacing between the numbers\n",
    "    if has_weekly_difference(training_range):\n",
    "        LOGGER.info(\"Weekly difference is too small, recalculating\")\n",
    "        lowest_rpe = rpe_schema[0] - 0.5\n",
    "        highest_rpe = rpe_schema[-1] + 0.5\n",
    "        updated_rpe_schema = [lowest_rpe] + rpe_schema[1:4] + [highest_rpe]\n",
    "        training_range=calculate_training_range(one_rm, reps, updated_rpe_schema)\n",
    "            \n",
    "    weights_lifted = list(zip(training_range, itertools.repeat(reps)))\n",
    "    weights_lifted = [LiftWeight(*i) for i in weights_lifted]\n",
    "\n",
    "    return weights_lifted"
   ]
  },
  {
   "cell_type": "code",
   "execution_count": 26,
   "metadata": {},
   "outputs": [],
   "source": [
    "from datetime import datetime, timedelta"
   ]
  },
  {
   "cell_type": "code",
   "execution_count": 137,
   "metadata": {},
   "outputs": [],
   "source": [
    "def create_weekly_dates(start_date): \n",
    "    \"\"\"\n",
    "    Create the weekly dates for the program\n",
    "    \"\"\"\n",
    "    starting_monday = datetime.date(\n",
    "        start_date + timedelta(days=7 - start_date.weekday())\n",
    "    )\n",
    "    \n",
    "    week_mondays = []\n",
    "    for week in range(1, 6):\n",
    "        week_monday = starting_monday + timedelta(days=7*week)\n",
    "        week_mondays.append(week_monday)\n",
    "\n",
    "    # Create the week dates as str \n",
    "    week_dates = [i.strftime('%d/%m/%y') for i in week_mondays]                \n",
    "    return week_dates"
   ]
  },
  {
   "cell_type": "code",
   "execution_count": 138,
   "metadata": {},
   "outputs": [
    {
     "data": {
      "text/plain": [
       "['05/12/22', '12/12/22', '19/12/22', '26/12/22', '02/01/23']"
      ]
     },
     "execution_count": 138,
     "metadata": {},
     "output_type": "execute_result"
    }
   ],
   "source": [
    "create_weekly_dates(datetime.now())"
   ]
  },
  {
   "cell_type": "code",
   "execution_count": 30,
   "metadata": {},
   "outputs": [
    {
     "data": {
      "text/plain": [
       "<bound method WeeklyExercise.<lambda> of WeeklyExercise(week_number=1, date=datetime.datetime(2021, 1, 1, 0, 0))>"
      ]
     },
     "execution_count": 30,
     "metadata": {},
     "output_type": "execute_result"
    }
   ],
   "source": [
    "WeeklyExercise(\n",
    "    week_number=1,\n",
    "    date=datetime(2021, 1, 1)\n",
    ")._get_monday"
   ]
  },
  {
   "cell_type": "code",
   "execution_count": 254,
   "metadata": {},
   "outputs": [
    {
     "name": "stderr",
     "output_type": "stream",
     "text": [
      "INFO:__main__:Reading source data and configs\n",
      "INFO:__main__:Reading user inputs\n",
      "INFO:__main__:Creating weekly dates\n",
      "INFO:__main__:Creating program for squat\n",
      "INFO:__main__:Weekly difference is too small, recalculating\n",
      "INFO:__main__:Creating program for bench\n",
      "INFO:__main__:Weekly difference is too small, recalculating\n",
      "INFO:__main__:Creating program for deadlift\n"
     ]
    },
    {
     "name": "stdout",
     "output_type": "stream",
     "text": [
      "[5.0, 2.5, 2.5, 2.5]\n",
      "5.0\n",
      "2.5\n",
      "2.5\n",
      "2.5\n",
      "[2.5, 5.0, 2.5, 0.0]\n",
      "2.5\n",
      "5.0\n",
      "2.5\n",
      "0.0\n",
      "[5.0, 2.5, 0.0, 2.5]\n",
      "5.0\n",
      "2.5\n",
      "0.0\n",
      "[10.0, 2.5, 2.5, 2.5]\n",
      "10.0\n",
      "2.5\n",
      "2.5\n",
      "2.5\n"
     ]
    }
   ],
   "source": [
    "\n",
    "if __name__ == \"__main__\":\n",
    "    # arguments = docopt(__doc__, version=\"simple-strength-program v1.0\")\n",
    "\n",
    "    # # gather inputs\n",
    "    # MICROPLATES = False\n",
    "\n",
    "    # if arguments[\"--user\"]:\n",
    "    #     # ask for user profile\n",
    "    #     user_profile = Prompt.ask(\"Enter user profile name\", default=\"default\")\n",
    "    #     user_profile = user_profile.lower()\n",
    "    #     user_profile = user_profile.replace(\" \", \"-\")\n",
    "    # else:\n",
    "    #     user_profile = \"default\"\n",
    "    user_profile='default'\n",
    "    \n",
    "    start_date=datetime.now()\n",
    "\n",
    "    LOGGER.info(\"Reading source data and configs\")\n",
    "    defined_rpes = yaml.load(open(\"source/rpe.yaml\", \"r\"), Loader=yaml.FullLoader)\n",
    "    exercises = yaml.load(open(\"config/exercise.json\", \"r\"), Loader=yaml.FullLoader)\n",
    "    accessory_rpe_schema = defined_rpes.get(\"accessory\").get(\"backoff\")\n",
    "\n",
    "    LOGGER.info(\"Reading user inputs\")\n",
    "    user_lifts = yaml.load(\n",
    "        open(f\"profiles/{user_profile}/lifts.yaml\", \"r\"), Loader=yaml.FullLoader\n",
    "    )\n",
    "    try:\n",
    "        user_gym = yaml.load(\n",
    "            open(f\"profiles/{user_profile}/gym.yaml\", \"r\"), Loader=yaml.FullLoader\n",
    "        )\n",
    "    except FileNotFoundError:\n",
    "        user_gym = False\n",
    "\n",
    "\n",
    "    # Global variables\n",
    "    DF_RPE = pd.read_csv(\"source/rpe-calculator.csv\").set_index(\"RPE\")\n",
    "    MICROPLATES = user_gym.get(\"microplates\") if user_gym else False\n",
    "    WEEK_DATES = create_weekly_dates(start_date)\n",
    "    \n",
    "    # create weekly dates \n",
    "    LOGGER.info(\"Creating weekly dates\")\n",
    "\n",
    "\n",
    "    max_lifts = []\n",
    "    full_program = []\n",
    "    low_accessory_program = []\n",
    "    high_accessory_program = []\n",
    "\n",
    "    for compound_lift, stats in user_lifts.items():\n",
    "        # clear previous stats\n",
    "        LOGGER.info(\"Creating program for %s\", compound_lift)\n",
    "        top_training_range = []\n",
    "        backoff_training_range = []\n",
    "\n",
    "        lift_one_rep_max = calculate_1rm(\n",
    "            reps=stats.get(\"reps\"), rpe=stats.get(\"rpe\"), weight=stats.get(\"weight\")\n",
    "        )\n",
    "\n",
    "        max_strength = OneRepMax(lift=compound_lift, weight=lift_one_rep_max)\n",
    "\n",
    "        goal = stats.get(\"program-goal\")\n",
    "        program_type = goal.split(\"-\")[0]\n",
    "        rpes = defined_rpes.get(program_type)\n",
    "        exercise_volume = exercises.get(\"program-goals\").get(f\"{goal}\")\n",
    "\n",
    "        if program_type == \"strength\":\n",
    "            top_training_range = create_training_range(\n",
    "                    one_rm=lift_one_rep_max,\n",
    "                    reps=exercise_volume.get(\"top-reps\"),\n",
    "                    rpe_schema=rpes.get(\"top\"),\n",
    "                )\n",
    "            \n",
    "\n",
    "        backoff_training_range = create_training_range(\n",
    "            one_rm=lift_one_rep_max,\n",
    "            reps=exercise_volume.get(\"backoff-reps\"),\n",
    "            rpe_schema=rpes.get(\"backoff\"),\n",
    "        )\n",
    "\n",
    "        compound = Exercise(\n",
    "            backoff_sets=backoff_training_range,\n",
    "            name=compound_lift,\n",
    "            predicted_one_rm=lift_one_rep_max,\n",
    "            top_sets=top_training_range,\n",
    "        )\n",
    "\n",
    "        full_program.append(compound)\n",
    "\n",
    "        accessories = exercises.get(\"accessory-lifts\").get(f\"{compound_lift}\")\n",
    "        for accessory, stats in accessories.items():\n",
    "            accessory_one_rm = round_weights(\n",
    "                lift_one_rep_max * stats.get(\"max-onerm-pct\")\n",
    "            )\n",
    "            min_reps = stats.get(\"min-reps\")\n",
    "            max_reps = stats.get(\"max-reps\")\n",
    "\n",
    "            low_volume = calculate_training_range(\n",
    "                one_rm=accessory_one_rm, reps=min_reps, rpe_schema=accessory_rpe_schema\n",
    "            )\n",
    "\n",
    "            high_volume = calculate_training_range(\n",
    "                one_rm=lift_one_rep_max, reps=max_reps, rpe_schema=accessory_rpe_schema\n",
    "            )\n",
    "\n",
    "            low_volume_exercise = Exercise(\n",
    "                backoff_sets=low_volume,\n",
    "                name=accessory,\n",
    "                predicted_one_rm=accessory_one_rm,\n",
    "                related_compound=compound_lift,\n",
    "            )\n",
    "\n",
    "            high_volume_exercise = Exercise(\n",
    "                backoff_sets=high_volume,\n",
    "                name=accessory,\n",
    "                predicted_one_rm=lift_one_rep_max,\n",
    "                related_compound=compound_lift,\n",
    "            )\n",
    "\n",
    "            low_accessory_program.append(low_volume_exercise)\n",
    "            high_accessory_program.append(high_volume_exercise)\n",
    "\n",
    "        max_lifts.append(max_strength)\n",
    "    # for exercise in full_program: \n",
    "        # print(exercise.output_table\n",
    "        \n",
    "        # for acessory in accessory_program: \n",
    "            # print(acessory.output_print)"
   ]
  },
  {
   "cell_type": "code",
   "execution_count": 265,
   "metadata": {},
   "outputs": [],
   "source": [
    "x = PrettyTable()\n",
    "x.field_names = ['Lift', 'Training Max']\n",
    "for lift in max_lifts:\n",
    "    max_tm_row = lift.output_table\n",
    "    x.add_row(max_tm_row)\n",
    "        "
   ]
  },
  {
   "cell_type": "code",
   "execution_count": 266,
   "metadata": {},
   "outputs": [
    {
     "data": {
      "text/html": [
       "<table>\n",
       "    <thead>\n",
       "        <tr>\n",
       "            <th>Lift</th>\n",
       "            <th>Training Max</th>\n",
       "        </tr>\n",
       "    </thead>\n",
       "    <tbody>\n",
       "        <tr>\n",
       "            <td>Squat</td>\n",
       "            <td>149</td>\n",
       "        </tr>\n",
       "        <tr>\n",
       "            <td>Bench</td>\n",
       "            <td>113</td>\n",
       "        </tr>\n",
       "        <tr>\n",
       "            <td>Deadlift</td>\n",
       "            <td>209</td>\n",
       "        </tr>\n",
       "    </tbody>\n",
       "</table>"
      ],
      "text/plain": [
       "+----------+--------------+\n",
       "|   Lift   | Training Max |\n",
       "+----------+--------------+\n",
       "|  Squat   |     149      |\n",
       "|  Bench   |     113      |\n",
       "| Deadlift |     209      |\n",
       "+----------+--------------+"
      ]
     },
     "execution_count": 266,
     "metadata": {},
     "output_type": "execute_result"
    }
   ],
   "source": [
    "x"
   ]
  },
  {
   "cell_type": "code",
   "execution_count": 267,
   "metadata": {},
   "outputs": [],
   "source": [
    "x = PrettyTable()\n",
    "WEEK_DATES = create_weekly_dates(start_date)\n",
    "WEEK_DATES.insert(0, 'Week Starting')\n",
    "x.add_column(\"\", WEEK_DATES)"
   ]
  },
  {
   "cell_type": "code",
   "execution_count": 268,
   "metadata": {},
   "outputs": [
    {
     "data": {
      "text/html": [
       "<table>\n",
       "    <thead>\n",
       "        <tr>\n",
       "            <th></th>\n",
       "        </tr>\n",
       "    </thead>\n",
       "    <tbody>\n",
       "        <tr>\n",
       "            <td>Week Starting</td>\n",
       "        </tr>\n",
       "        <tr>\n",
       "            <td>05/12/22</td>\n",
       "        </tr>\n",
       "        <tr>\n",
       "            <td>12/12/22</td>\n",
       "        </tr>\n",
       "        <tr>\n",
       "            <td>19/12/22</td>\n",
       "        </tr>\n",
       "        <tr>\n",
       "            <td>26/12/22</td>\n",
       "        </tr>\n",
       "        <tr>\n",
       "            <td>02/01/23</td>\n",
       "        </tr>\n",
       "    </tbody>\n",
       "</table>"
      ],
      "text/plain": [
       "+---------------+\n",
       "|               |\n",
       "+---------------+\n",
       "| Week Starting |\n",
       "|    05/12/22   |\n",
       "|    12/12/22   |\n",
       "|    19/12/22   |\n",
       "|    26/12/22   |\n",
       "|    02/01/23   |\n",
       "+---------------+"
      ]
     },
     "execution_count": 268,
     "metadata": {},
     "output_type": "execute_result"
    }
   ],
   "source": [
    "x"
   ]
  },
  {
   "cell_type": "code",
   "execution_count": 269,
   "metadata": {},
   "outputs": [
    {
     "data": {
      "text/plain": [
       "[Exercise(backoff_sets=[LiftWeight(weight=112.5, reps=4), LiftWeight(weight=117.5, reps=4), LiftWeight(weight=122.5, reps=4), LiftWeight(weight=125.0, reps=4), LiftWeight(weight=127.5, reps=4)], name='Squat', predicted_one_rm=149, related_compound=None, top_sets=[LiftWeight(weight=127.5, reps=2), LiftWeight(weight=132.5, reps=2), LiftWeight(weight=135.0, reps=2), LiftWeight(weight=137.5, reps=2), LiftWeight(weight=140.0, reps=2)]),\n",
       " Exercise(backoff_sets=[LiftWeight(weight=77.5, reps=8), LiftWeight(weight=82.5, reps=8), LiftWeight(weight=85.0, reps=8), LiftWeight(weight=85.0, reps=8), LiftWeight(weight=87.5, reps=8)], name='Bench', predicted_one_rm=113, related_compound=None, top_sets=[]),\n",
       " Exercise(backoff_sets=[LiftWeight(weight=142.5, reps=8), LiftWeight(weight=152.5, reps=8), LiftWeight(weight=155.0, reps=8), LiftWeight(weight=157.5, reps=8), LiftWeight(weight=160.0, reps=8)], name='Deadlift', predicted_one_rm=209, related_compound=None, top_sets=[])]"
      ]
     },
     "execution_count": 269,
     "metadata": {},
     "output_type": "execute_result"
    }
   ],
   "source": [
    "full_program"
   ]
  },
  {
   "cell_type": "code",
   "execution_count": 270,
   "metadata": {},
   "outputs": [],
   "source": [
    "for day_no, exercise in enumerate(full_program, 1): \n",
    "    \n",
    "    exercise_col = exercise.output_table\n",
    "    x.add_column(f\"Day {day_no}\", exercise_col)"
   ]
  },
  {
   "cell_type": "code",
   "execution_count": 271,
   "metadata": {},
   "outputs": [
    {
     "data": {
      "text/html": [
       "<table>\n",
       "    <thead>\n",
       "        <tr>\n",
       "            <th></th>\n",
       "            <th>Day 1</th>\n",
       "            <th>Day 2</th>\n",
       "            <th>Day 3</th>\n",
       "        </tr>\n",
       "    </thead>\n",
       "    <tbody>\n",
       "        <tr>\n",
       "            <td>Week Starting</td>\n",
       "            <td>Squat</td>\n",
       "            <td>Bench</td>\n",
       "            <td>Deadlift</td>\n",
       "        </tr>\n",
       "        <tr>\n",
       "            <td>05/12/22</td>\n",
       "            <td>127.5 kg x 2<br>112.5 kg x 4</td>\n",
       "            <td>77.5 kg x 8</td>\n",
       "            <td>142.5 kg x 8</td>\n",
       "        </tr>\n",
       "        <tr>\n",
       "            <td>12/12/22</td>\n",
       "            <td>132.5 kg x 2<br>117.5 kg x 4</td>\n",
       "            <td>82.5 kg x 8</td>\n",
       "            <td>152.5 kg x 8</td>\n",
       "        </tr>\n",
       "        <tr>\n",
       "            <td>19/12/22</td>\n",
       "            <td>135.0 kg x 2<br>122.5 kg x 4</td>\n",
       "            <td>85.0 kg x 8</td>\n",
       "            <td>155.0 kg x 8</td>\n",
       "        </tr>\n",
       "        <tr>\n",
       "            <td>26/12/22</td>\n",
       "            <td>137.5 kg x 2<br>125.0 kg x 4</td>\n",
       "            <td>85.0 kg x 8</td>\n",
       "            <td>157.5 kg x 8</td>\n",
       "        </tr>\n",
       "        <tr>\n",
       "            <td>02/01/23</td>\n",
       "            <td>140.0 kg x 2<br>127.5 kg x 4</td>\n",
       "            <td>87.5 kg x 8</td>\n",
       "            <td>160.0 kg x 8</td>\n",
       "        </tr>\n",
       "    </tbody>\n",
       "</table>"
      ],
      "text/plain": [
       "+---------------+--------------+-------------+--------------+\n",
       "|               |    Day 1     |    Day 2    |    Day 3     |\n",
       "+---------------+--------------+-------------+--------------+\n",
       "| Week Starting |    Squat     |    Bench    |   Deadlift   |\n",
       "|    05/12/22   | 127.5 kg x 2 | 77.5 kg x 8 | 142.5 kg x 8 |\n",
       "|               | 112.5 kg x 4 |             |              |\n",
       "|    12/12/22   | 132.5 kg x 2 | 82.5 kg x 8 | 152.5 kg x 8 |\n",
       "|               | 117.5 kg x 4 |             |              |\n",
       "|    19/12/22   | 135.0 kg x 2 | 85.0 kg x 8 | 155.0 kg x 8 |\n",
       "|               | 122.5 kg x 4 |             |              |\n",
       "|    26/12/22   | 137.5 kg x 2 | 85.0 kg x 8 | 157.5 kg x 8 |\n",
       "|               | 125.0 kg x 4 |             |              |\n",
       "|    02/01/23   | 140.0 kg x 2 | 87.5 kg x 8 | 160.0 kg x 8 |\n",
       "|               | 127.5 kg x 4 |             |              |\n",
       "+---------------+--------------+-------------+--------------+"
      ]
     },
     "execution_count": 271,
     "metadata": {},
     "output_type": "execute_result"
    }
   ],
   "source": [
    "x"
   ]
  },
  {
   "cell_type": "code",
   "execution_count": 191,
   "metadata": {},
   "outputs": [
    {
     "name": "stdout",
     "output_type": "stream",
     "text": [
      "Squat\n",
      "Squat\n",
      "Squat\n",
      "Bench\n",
      "Bench\n",
      "Bench\n",
      "Deadlift\n"
     ]
    }
   ],
   "source": [
    "for day_no, accessory in enumerate(low_accessory_program,1): \n",
    "        accessory_col = accessory.output_table\n",
    "        # a_table.add_column(f\"Option {day_no}\", accessory.output_table)"
   ]
  },
  {
   "cell_type": "code",
   "execution_count": 189,
   "metadata": {},
   "outputs": [
    {
     "data": {
      "text/html": [
       "<table>\n",
       "    <thead>\n",
       "        <tr>\n",
       "            <th>Day 1</th>\n",
       "            <th>Day 2</th>\n",
       "            <th>Day 3</th>\n",
       "            <th>Day 4</th>\n",
       "            <th>Day 5</th>\n",
       "            <th>Day 6</th>\n",
       "            <th>Day 7</th>\n",
       "        </tr>\n",
       "    </thead>\n",
       "    <tbody>\n",
       "        <tr>\n",
       "            <td>Romanian Deadlifts (Squat)</td>\n",
       "            <td>Safety Squat Bar (Squat)</td>\n",
       "            <td>Pendulum Squat (Squat)</td>\n",
       "            <td>Paused Bench (Bench)</td>\n",
       "            <td>3 Count Paused Bench (Bench)</td>\n",
       "            <td>Incline Bench Press (Bench)</td>\n",
       "            <td>Conventional Deadlifts (Deadlift)</td>\n",
       "        </tr>\n",
       "        <tr>\n",
       "            <td>85.0 kg x 6</td>\n",
       "            <td>92.5 kg x 3</td>\n",
       "            <td>52.5 kg x 8</td>\n",
       "            <td>65.0 kg x 3</td>\n",
       "            <td>62.5 kg x 3</td>\n",
       "            <td>75.0 kg x 4</td>\n",
       "            <td>132.5 kg x 4</td>\n",
       "        </tr>\n",
       "        <tr>\n",
       "            <td>87.5 kg x 6</td>\n",
       "            <td>95.0 kg x 3</td>\n",
       "            <td>55.0 kg x 8</td>\n",
       "            <td>67.5 kg x 3</td>\n",
       "            <td>65.0 kg x 3</td>\n",
       "            <td>77.5 kg x 4</td>\n",
       "            <td>137.5 kg x 4</td>\n",
       "        </tr>\n",
       "        <tr>\n",
       "            <td>90.0 kg x 6</td>\n",
       "            <td>97.5 kg x 3</td>\n",
       "            <td>57.5 kg x 8</td>\n",
       "            <td>70.0 kg x 3</td>\n",
       "            <td>65.0 kg x 3</td>\n",
       "            <td>77.5 kg x 4</td>\n",
       "            <td>142.5 kg x 4</td>\n",
       "        </tr>\n",
       "        <tr>\n",
       "            <td>90.0 kg x 6</td>\n",
       "            <td>100.0 kg x 3</td>\n",
       "            <td>57.5 kg x 8</td>\n",
       "            <td>72.5 kg x 3</td>\n",
       "            <td>67.5 kg x 3</td>\n",
       "            <td>80.0 kg x 4</td>\n",
       "            <td>142.5 kg x 4</td>\n",
       "        </tr>\n",
       "        <tr>\n",
       "            <td>92.5 kg x 6</td>\n",
       "            <td>102.5 kg x 3</td>\n",
       "            <td>57.5 kg x 8</td>\n",
       "            <td>72.5 kg x 3</td>\n",
       "            <td>67.5 kg x 3</td>\n",
       "            <td>80.0 kg x 4</td>\n",
       "            <td>145.0 kg x 4</td>\n",
       "        </tr>\n",
       "    </tbody>\n",
       "</table>"
      ],
      "text/plain": [
       "+----------------------------+--------------------------+------------------------+----------------------+------------------------------+-----------------------------+-----------------------------------+\n",
       "|           Day 1            |          Day 2           |         Day 3          |        Day 4         |            Day 5             |            Day 6            |               Day 7               |\n",
       "+----------------------------+--------------------------+------------------------+----------------------+------------------------------+-----------------------------+-----------------------------------+\n",
       "| Romanian Deadlifts (Squat) | Safety Squat Bar (Squat) | Pendulum Squat (Squat) | Paused Bench (Bench) | 3 Count Paused Bench (Bench) | Incline Bench Press (Bench) | Conventional Deadlifts (Deadlift) |\n",
       "|        85.0 kg x 6         |       92.5 kg x 3        |      52.5 kg x 8       |     65.0 kg x 3      |         62.5 kg x 3          |         75.0 kg x 4         |            132.5 kg x 4           |\n",
       "|        87.5 kg x 6         |       95.0 kg x 3        |      55.0 kg x 8       |     67.5 kg x 3      |         65.0 kg x 3          |         77.5 kg x 4         |            137.5 kg x 4           |\n",
       "|        90.0 kg x 6         |       97.5 kg x 3        |      57.5 kg x 8       |     70.0 kg x 3      |         65.0 kg x 3          |         77.5 kg x 4         |            142.5 kg x 4           |\n",
       "|        90.0 kg x 6         |       100.0 kg x 3       |      57.5 kg x 8       |     72.5 kg x 3      |         67.5 kg x 3          |         80.0 kg x 4         |            142.5 kg x 4           |\n",
       "|        92.5 kg x 6         |       102.5 kg x 3       |      57.5 kg x 8       |     72.5 kg x 3      |         67.5 kg x 3          |         80.0 kg x 4         |            145.0 kg x 4           |\n",
       "+----------------------------+--------------------------+------------------------+----------------------+------------------------------+-----------------------------+-----------------------------------+"
      ]
     },
     "execution_count": 189,
     "metadata": {},
     "output_type": "execute_result"
    }
   ],
   "source": [
    "a_table"
   ]
  },
  {
   "cell_type": "code",
   "execution_count": 84,
   "metadata": {},
   "outputs": [],
   "source": [
    "training_range = [80, 85, 87.5, 92.5, 95]\n",
    "upper_limit = training_range[-1]\n",
    "lower_limit = training_range[0]"
   ]
  },
  {
   "cell_type": "code",
   "execution_count": 98,
   "metadata": {},
   "outputs": [
    {
     "name": "stdout",
     "output_type": "stream",
     "text": [
      "Squat\n",
      "Training max: 149 kg\n",
      "W1: 120.0 kg x 2\n",
      "W1: 110.0 kg x 4\n",
      "W2: 125.0 kg x 2\n",
      "W2: 115.0 kg x 4\n",
      "W3: 130.0 kg x 2\n",
      "W3: 117.5 kg x 4\n",
      "W4: 135.0 kg x 2\n",
      "W4: 122.5 kg x 4\n",
      "W5: 140.0 kg x 2\n",
      "W5: 125.0 kg x 4\n",
      "Bench\n",
      "Training max: 113 kg\n",
      "W1: 70.0 kg x 8\n",
      "W2: 75.0 kg x 8\n",
      "W3: 80.0 kg x 8\n",
      "W4: 85.0 kg x 8\n",
      "W5: 90.0 kg x 8\n",
      "Deadlift\n",
      "Training max: 209 kg\n",
      "W1: 140.0 kg x 8\n",
      "W2: 145.0 kg x 8\n",
      "W3: 150.0 kg x 8\n",
      "W4: 155.0 kg x 8\n",
      "W5: 160.0 kg x 8\n"
     ]
    }
   ],
   "source": [
    "for exercise in full_program: \n",
    "    print(exercise.output_print)\n",
    "    # for set in exercise.top_sets: \n",
    "    #     print(set.weight, set.reps, set.rpe)\n",
    "        \n",
    "    # for set in exercise.backoff_sets: \n",
    "    #     print(set.weight, set.reps, set.rpe)"
   ]
  }
 ],
 "metadata": {
  "kernelspec": {
   "display_name": "Python 3.10.4 ('ssp')",
   "language": "python",
   "name": "python3"
  },
  "language_info": {
   "codemirror_mode": {
    "name": "ipython",
    "version": 3
   },
   "file_extension": ".py",
   "mimetype": "text/x-python",
   "name": "python",
   "nbconvert_exporter": "python",
   "pygments_lexer": "ipython3",
   "version": "3.10.4"
  },
  "orig_nbformat": 4,
  "vscode": {
   "interpreter": {
    "hash": "b56106e03c096220db24ca3d0c90df3ffe14ecf8c0926344f242900e8175656d"
   }
  }
 },
 "nbformat": 4,
 "nbformat_minor": 2
}
